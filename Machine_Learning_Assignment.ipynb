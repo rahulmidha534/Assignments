{
 "cells": [
  {
   "cell_type": "markdown",
   "metadata": {},
   "source": [
    "# Details of the Model"
   ]
  },
  {
   "cell_type": "markdown",
   "metadata": {},
   "source": [
    "I am using ANN i.e Artificial Neural Network for solving this classification problem, as I have seen the data it has 170 columns and around 7000 rows, means it is a huge data. ANN is a deep learning model where we have multilayers from which the data is passed, and finally we get the desired output. In starting the number of nodes for the ANN are equal to the number of independent variables, and after that for the further hidden layers we have to decide how much nodes we want to keep for the hidden layers. In the starting layers I have used activation function as relu and after that I have used the activation function as sigmoid as I have only two classes in which I have to classify the given data, If I would have classes more than two I would have used the softmax activation function. For the further steps in the preprocessing and modelling I have mentioned the comments for better understanding."
   ]
  },
  {
   "cell_type": "code",
   "execution_count": 0,
   "metadata": {
    "colab": {},
    "colab_type": "code",
    "id": "ffiEdbe97NQq"
   },
   "outputs": [],
   "source": [
    "## importing the libraries\n",
    "import numpy as np\n",
    "import pandas as pd\n",
    "import matplotlib.pyplot as plt"
   ]
  },
  {
   "cell_type": "code",
   "execution_count": 0,
   "metadata": {
    "colab": {},
    "colab_type": "code",
    "id": "wro_Oz5A7bPJ"
   },
   "outputs": [],
   "source": [
    "## importing the dataset\n",
    "data = pd.read_csv(\"musk_csv.csv\")"
   ]
  },
  {
   "cell_type": "code",
   "execution_count": 0,
   "metadata": {
    "colab": {},
    "colab_type": "code",
    "id": "LDJMwnNc7tR4"
   },
   "outputs": [],
   "source": [
    "## dropped the columns as I have to classify the compounds on the basis of their chemical properties\n",
    "data = data.drop('ID',axis = 1)\n",
    "data = data.drop('molecule_name',axis = 1)\n",
    "data = data.drop('conformation_name',axis = 1)"
   ]
  },
  {
   "cell_type": "code",
   "execution_count": 4,
   "metadata": {
    "colab": {
     "base_uri": "https://localhost:8080/",
     "height": 246
    },
    "colab_type": "code",
    "id": "Fia1oT5A7u2V",
    "outputId": "2cfe625a-eb01-48a4-bcff-83d473a14448"
   },
   "outputs": [
    {
     "data": {
      "text/html": [
       "<div>\n",
       "<style scoped>\n",
       "    .dataframe tbody tr th:only-of-type {\n",
       "        vertical-align: middle;\n",
       "    }\n",
       "\n",
       "    .dataframe tbody tr th {\n",
       "        vertical-align: top;\n",
       "    }\n",
       "\n",
       "    .dataframe thead th {\n",
       "        text-align: right;\n",
       "    }\n",
       "</style>\n",
       "<table border=\"1\" class=\"dataframe\">\n",
       "  <thead>\n",
       "    <tr style=\"text-align: right;\">\n",
       "      <th></th>\n",
       "      <th>f1</th>\n",
       "      <th>f2</th>\n",
       "      <th>f3</th>\n",
       "      <th>f4</th>\n",
       "      <th>f5</th>\n",
       "      <th>f6</th>\n",
       "      <th>f7</th>\n",
       "      <th>f8</th>\n",
       "      <th>f9</th>\n",
       "      <th>f10</th>\n",
       "      <th>f11</th>\n",
       "      <th>f12</th>\n",
       "      <th>f13</th>\n",
       "      <th>f14</th>\n",
       "      <th>f15</th>\n",
       "      <th>f16</th>\n",
       "      <th>f17</th>\n",
       "      <th>f18</th>\n",
       "      <th>f19</th>\n",
       "      <th>f20</th>\n",
       "      <th>f21</th>\n",
       "      <th>f22</th>\n",
       "      <th>f23</th>\n",
       "      <th>f24</th>\n",
       "      <th>f25</th>\n",
       "      <th>f26</th>\n",
       "      <th>f27</th>\n",
       "      <th>f28</th>\n",
       "      <th>f29</th>\n",
       "      <th>f30</th>\n",
       "      <th>f31</th>\n",
       "      <th>f32</th>\n",
       "      <th>f33</th>\n",
       "      <th>f34</th>\n",
       "      <th>f35</th>\n",
       "      <th>f36</th>\n",
       "      <th>f37</th>\n",
       "      <th>f38</th>\n",
       "      <th>f39</th>\n",
       "      <th>f40</th>\n",
       "      <th>...</th>\n",
       "      <th>f128</th>\n",
       "      <th>f129</th>\n",
       "      <th>f130</th>\n",
       "      <th>f131</th>\n",
       "      <th>f132</th>\n",
       "      <th>f133</th>\n",
       "      <th>f134</th>\n",
       "      <th>f135</th>\n",
       "      <th>f136</th>\n",
       "      <th>f137</th>\n",
       "      <th>f138</th>\n",
       "      <th>f139</th>\n",
       "      <th>f140</th>\n",
       "      <th>f141</th>\n",
       "      <th>f142</th>\n",
       "      <th>f143</th>\n",
       "      <th>f144</th>\n",
       "      <th>f145</th>\n",
       "      <th>f146</th>\n",
       "      <th>f147</th>\n",
       "      <th>f148</th>\n",
       "      <th>f149</th>\n",
       "      <th>f150</th>\n",
       "      <th>f151</th>\n",
       "      <th>f152</th>\n",
       "      <th>f153</th>\n",
       "      <th>f154</th>\n",
       "      <th>f155</th>\n",
       "      <th>f156</th>\n",
       "      <th>f157</th>\n",
       "      <th>f158</th>\n",
       "      <th>f159</th>\n",
       "      <th>f160</th>\n",
       "      <th>f161</th>\n",
       "      <th>f162</th>\n",
       "      <th>f163</th>\n",
       "      <th>f164</th>\n",
       "      <th>f165</th>\n",
       "      <th>f166</th>\n",
       "      <th>class</th>\n",
       "    </tr>\n",
       "  </thead>\n",
       "  <tbody>\n",
       "    <tr>\n",
       "      <th>0</th>\n",
       "      <td>46</td>\n",
       "      <td>-108</td>\n",
       "      <td>-60</td>\n",
       "      <td>-69</td>\n",
       "      <td>-117</td>\n",
       "      <td>49</td>\n",
       "      <td>38</td>\n",
       "      <td>-161</td>\n",
       "      <td>-8</td>\n",
       "      <td>5</td>\n",
       "      <td>-323</td>\n",
       "      <td>-220</td>\n",
       "      <td>-113</td>\n",
       "      <td>-299</td>\n",
       "      <td>-283</td>\n",
       "      <td>-307</td>\n",
       "      <td>-31</td>\n",
       "      <td>-106</td>\n",
       "      <td>-227</td>\n",
       "      <td>-42</td>\n",
       "      <td>-59</td>\n",
       "      <td>-22</td>\n",
       "      <td>-67</td>\n",
       "      <td>189</td>\n",
       "      <td>81</td>\n",
       "      <td>17</td>\n",
       "      <td>-27</td>\n",
       "      <td>-89</td>\n",
       "      <td>-67</td>\n",
       "      <td>105</td>\n",
       "      <td>-116</td>\n",
       "      <td>124</td>\n",
       "      <td>-106</td>\n",
       "      <td>5</td>\n",
       "      <td>-120</td>\n",
       "      <td>63</td>\n",
       "      <td>-165</td>\n",
       "      <td>40</td>\n",
       "      <td>-27</td>\n",
       "      <td>68</td>\n",
       "      <td>...</td>\n",
       "      <td>81</td>\n",
       "      <td>-114</td>\n",
       "      <td>-187</td>\n",
       "      <td>45</td>\n",
       "      <td>-118</td>\n",
       "      <td>-75</td>\n",
       "      <td>-182</td>\n",
       "      <td>-234</td>\n",
       "      <td>-19</td>\n",
       "      <td>12</td>\n",
       "      <td>-13</td>\n",
       "      <td>-41</td>\n",
       "      <td>-119</td>\n",
       "      <td>-149</td>\n",
       "      <td>70</td>\n",
       "      <td>17</td>\n",
       "      <td>-20</td>\n",
       "      <td>-177</td>\n",
       "      <td>-101</td>\n",
       "      <td>-116</td>\n",
       "      <td>-14</td>\n",
       "      <td>-50</td>\n",
       "      <td>24</td>\n",
       "      <td>-81</td>\n",
       "      <td>-125</td>\n",
       "      <td>-114</td>\n",
       "      <td>-44</td>\n",
       "      <td>128</td>\n",
       "      <td>3</td>\n",
       "      <td>-244</td>\n",
       "      <td>-308</td>\n",
       "      <td>52</td>\n",
       "      <td>-7</td>\n",
       "      <td>39</td>\n",
       "      <td>126</td>\n",
       "      <td>156</td>\n",
       "      <td>-50</td>\n",
       "      <td>-112</td>\n",
       "      <td>96</td>\n",
       "      <td>1</td>\n",
       "    </tr>\n",
       "    <tr>\n",
       "      <th>1</th>\n",
       "      <td>41</td>\n",
       "      <td>-188</td>\n",
       "      <td>-145</td>\n",
       "      <td>22</td>\n",
       "      <td>-117</td>\n",
       "      <td>-6</td>\n",
       "      <td>57</td>\n",
       "      <td>-171</td>\n",
       "      <td>-39</td>\n",
       "      <td>-100</td>\n",
       "      <td>-319</td>\n",
       "      <td>-111</td>\n",
       "      <td>-228</td>\n",
       "      <td>-281</td>\n",
       "      <td>-281</td>\n",
       "      <td>-300</td>\n",
       "      <td>54</td>\n",
       "      <td>-149</td>\n",
       "      <td>-98</td>\n",
       "      <td>-196</td>\n",
       "      <td>-27</td>\n",
       "      <td>-22</td>\n",
       "      <td>2</td>\n",
       "      <td>75</td>\n",
       "      <td>49</td>\n",
       "      <td>-34</td>\n",
       "      <td>45</td>\n",
       "      <td>-91</td>\n",
       "      <td>32</td>\n",
       "      <td>95</td>\n",
       "      <td>-116</td>\n",
       "      <td>85</td>\n",
       "      <td>-23</td>\n",
       "      <td>42</td>\n",
       "      <td>-58</td>\n",
       "      <td>61</td>\n",
       "      <td>-171</td>\n",
       "      <td>2</td>\n",
       "      <td>-144</td>\n",
       "      <td>38</td>\n",
       "      <td>...</td>\n",
       "      <td>88</td>\n",
       "      <td>-21</td>\n",
       "      <td>-32</td>\n",
       "      <td>32</td>\n",
       "      <td>-128</td>\n",
       "      <td>-72</td>\n",
       "      <td>-124</td>\n",
       "      <td>-218</td>\n",
       "      <td>-94</td>\n",
       "      <td>53</td>\n",
       "      <td>-79</td>\n",
       "      <td>-20</td>\n",
       "      <td>-35</td>\n",
       "      <td>-26</td>\n",
       "      <td>4</td>\n",
       "      <td>50</td>\n",
       "      <td>17</td>\n",
       "      <td>-177</td>\n",
       "      <td>-102</td>\n",
       "      <td>-121</td>\n",
       "      <td>-66</td>\n",
       "      <td>-77</td>\n",
       "      <td>51</td>\n",
       "      <td>-41</td>\n",
       "      <td>-34</td>\n",
       "      <td>-32</td>\n",
       "      <td>-63</td>\n",
       "      <td>115</td>\n",
       "      <td>-5</td>\n",
       "      <td>-235</td>\n",
       "      <td>-59</td>\n",
       "      <td>-2</td>\n",
       "      <td>52</td>\n",
       "      <td>103</td>\n",
       "      <td>136</td>\n",
       "      <td>169</td>\n",
       "      <td>-61</td>\n",
       "      <td>-136</td>\n",
       "      <td>79</td>\n",
       "      <td>1</td>\n",
       "    </tr>\n",
       "    <tr>\n",
       "      <th>2</th>\n",
       "      <td>46</td>\n",
       "      <td>-194</td>\n",
       "      <td>-145</td>\n",
       "      <td>28</td>\n",
       "      <td>-117</td>\n",
       "      <td>73</td>\n",
       "      <td>57</td>\n",
       "      <td>-168</td>\n",
       "      <td>-39</td>\n",
       "      <td>-22</td>\n",
       "      <td>-319</td>\n",
       "      <td>-111</td>\n",
       "      <td>-104</td>\n",
       "      <td>-283</td>\n",
       "      <td>-282</td>\n",
       "      <td>-303</td>\n",
       "      <td>52</td>\n",
       "      <td>-152</td>\n",
       "      <td>-97</td>\n",
       "      <td>-225</td>\n",
       "      <td>-28</td>\n",
       "      <td>-22</td>\n",
       "      <td>2</td>\n",
       "      <td>179</td>\n",
       "      <td>49</td>\n",
       "      <td>-33</td>\n",
       "      <td>46</td>\n",
       "      <td>-88</td>\n",
       "      <td>22</td>\n",
       "      <td>79</td>\n",
       "      <td>-116</td>\n",
       "      <td>19</td>\n",
       "      <td>-11</td>\n",
       "      <td>6</td>\n",
       "      <td>-38</td>\n",
       "      <td>71</td>\n",
       "      <td>-175</td>\n",
       "      <td>3</td>\n",
       "      <td>-129</td>\n",
       "      <td>37</td>\n",
       "      <td>...</td>\n",
       "      <td>64</td>\n",
       "      <td>0</td>\n",
       "      <td>-23</td>\n",
       "      <td>-15</td>\n",
       "      <td>-129</td>\n",
       "      <td>-74</td>\n",
       "      <td>-125</td>\n",
       "      <td>-221</td>\n",
       "      <td>-93</td>\n",
       "      <td>53</td>\n",
       "      <td>-72</td>\n",
       "      <td>-19</td>\n",
       "      <td>-33</td>\n",
       "      <td>-26</td>\n",
       "      <td>3</td>\n",
       "      <td>49</td>\n",
       "      <td>17</td>\n",
       "      <td>-177</td>\n",
       "      <td>-102</td>\n",
       "      <td>-119</td>\n",
       "      <td>-66</td>\n",
       "      <td>-81</td>\n",
       "      <td>51</td>\n",
       "      <td>-41</td>\n",
       "      <td>-27</td>\n",
       "      <td>-41</td>\n",
       "      <td>-140</td>\n",
       "      <td>77</td>\n",
       "      <td>-163</td>\n",
       "      <td>-238</td>\n",
       "      <td>-134</td>\n",
       "      <td>-154</td>\n",
       "      <td>57</td>\n",
       "      <td>143</td>\n",
       "      <td>142</td>\n",
       "      <td>165</td>\n",
       "      <td>-67</td>\n",
       "      <td>-145</td>\n",
       "      <td>39</td>\n",
       "      <td>1</td>\n",
       "    </tr>\n",
       "    <tr>\n",
       "      <th>3</th>\n",
       "      <td>41</td>\n",
       "      <td>-188</td>\n",
       "      <td>-145</td>\n",
       "      <td>22</td>\n",
       "      <td>-117</td>\n",
       "      <td>-7</td>\n",
       "      <td>57</td>\n",
       "      <td>-170</td>\n",
       "      <td>-39</td>\n",
       "      <td>-99</td>\n",
       "      <td>-319</td>\n",
       "      <td>-111</td>\n",
       "      <td>-228</td>\n",
       "      <td>-282</td>\n",
       "      <td>-281</td>\n",
       "      <td>-301</td>\n",
       "      <td>54</td>\n",
       "      <td>-150</td>\n",
       "      <td>-98</td>\n",
       "      <td>-196</td>\n",
       "      <td>-28</td>\n",
       "      <td>-22</td>\n",
       "      <td>2</td>\n",
       "      <td>77</td>\n",
       "      <td>48</td>\n",
       "      <td>-34</td>\n",
       "      <td>46</td>\n",
       "      <td>-91</td>\n",
       "      <td>32</td>\n",
       "      <td>94</td>\n",
       "      <td>-116</td>\n",
       "      <td>84</td>\n",
       "      <td>-23</td>\n",
       "      <td>41</td>\n",
       "      <td>-58</td>\n",
       "      <td>62</td>\n",
       "      <td>-171</td>\n",
       "      <td>3</td>\n",
       "      <td>-144</td>\n",
       "      <td>38</td>\n",
       "      <td>...</td>\n",
       "      <td>88</td>\n",
       "      <td>-20</td>\n",
       "      <td>-32</td>\n",
       "      <td>32</td>\n",
       "      <td>-128</td>\n",
       "      <td>-73</td>\n",
       "      <td>-125</td>\n",
       "      <td>-220</td>\n",
       "      <td>-93</td>\n",
       "      <td>53</td>\n",
       "      <td>-78</td>\n",
       "      <td>-19</td>\n",
       "      <td>-34</td>\n",
       "      <td>-26</td>\n",
       "      <td>4</td>\n",
       "      <td>50</td>\n",
       "      <td>17</td>\n",
       "      <td>-177</td>\n",
       "      <td>-101</td>\n",
       "      <td>-121</td>\n",
       "      <td>-65</td>\n",
       "      <td>-77</td>\n",
       "      <td>52</td>\n",
       "      <td>-41</td>\n",
       "      <td>-34</td>\n",
       "      <td>-32</td>\n",
       "      <td>-66</td>\n",
       "      <td>115</td>\n",
       "      <td>-7</td>\n",
       "      <td>-236</td>\n",
       "      <td>-60</td>\n",
       "      <td>-4</td>\n",
       "      <td>52</td>\n",
       "      <td>104</td>\n",
       "      <td>136</td>\n",
       "      <td>168</td>\n",
       "      <td>-60</td>\n",
       "      <td>-135</td>\n",
       "      <td>80</td>\n",
       "      <td>1</td>\n",
       "    </tr>\n",
       "    <tr>\n",
       "      <th>4</th>\n",
       "      <td>41</td>\n",
       "      <td>-188</td>\n",
       "      <td>-145</td>\n",
       "      <td>22</td>\n",
       "      <td>-117</td>\n",
       "      <td>-7</td>\n",
       "      <td>57</td>\n",
       "      <td>-170</td>\n",
       "      <td>-39</td>\n",
       "      <td>-99</td>\n",
       "      <td>-319</td>\n",
       "      <td>-111</td>\n",
       "      <td>-228</td>\n",
       "      <td>-282</td>\n",
       "      <td>-281</td>\n",
       "      <td>-301</td>\n",
       "      <td>54</td>\n",
       "      <td>-150</td>\n",
       "      <td>-98</td>\n",
       "      <td>-196</td>\n",
       "      <td>-28</td>\n",
       "      <td>-22</td>\n",
       "      <td>2</td>\n",
       "      <td>78</td>\n",
       "      <td>48</td>\n",
       "      <td>-34</td>\n",
       "      <td>46</td>\n",
       "      <td>-91</td>\n",
       "      <td>31</td>\n",
       "      <td>94</td>\n",
       "      <td>-116</td>\n",
       "      <td>84</td>\n",
       "      <td>-23</td>\n",
       "      <td>41</td>\n",
       "      <td>-58</td>\n",
       "      <td>62</td>\n",
       "      <td>-171</td>\n",
       "      <td>3</td>\n",
       "      <td>-144</td>\n",
       "      <td>38</td>\n",
       "      <td>...</td>\n",
       "      <td>88</td>\n",
       "      <td>-20</td>\n",
       "      <td>-32</td>\n",
       "      <td>32</td>\n",
       "      <td>-128</td>\n",
       "      <td>-73</td>\n",
       "      <td>-125</td>\n",
       "      <td>-220</td>\n",
       "      <td>-93</td>\n",
       "      <td>53</td>\n",
       "      <td>-78</td>\n",
       "      <td>-19</td>\n",
       "      <td>-34</td>\n",
       "      <td>-26</td>\n",
       "      <td>4</td>\n",
       "      <td>50</td>\n",
       "      <td>17</td>\n",
       "      <td>-177</td>\n",
       "      <td>-101</td>\n",
       "      <td>-121</td>\n",
       "      <td>-65</td>\n",
       "      <td>-76</td>\n",
       "      <td>52</td>\n",
       "      <td>-41</td>\n",
       "      <td>-34</td>\n",
       "      <td>-32</td>\n",
       "      <td>-66</td>\n",
       "      <td>115</td>\n",
       "      <td>-8</td>\n",
       "      <td>-236</td>\n",
       "      <td>-60</td>\n",
       "      <td>-4</td>\n",
       "      <td>52</td>\n",
       "      <td>104</td>\n",
       "      <td>137</td>\n",
       "      <td>168</td>\n",
       "      <td>-60</td>\n",
       "      <td>-135</td>\n",
       "      <td>80</td>\n",
       "      <td>1</td>\n",
       "    </tr>\n",
       "  </tbody>\n",
       "</table>\n",
       "<p>5 rows × 167 columns</p>\n",
       "</div>"
      ],
      "text/plain": [
       "   f1   f2   f3  f4   f5  f6  f7  ...  f161  f162  f163  f164  f165  f166  class\n",
       "0  46 -108  -60 -69 -117  49  38  ...    39   126   156   -50  -112    96      1\n",
       "1  41 -188 -145  22 -117  -6  57  ...   103   136   169   -61  -136    79      1\n",
       "2  46 -194 -145  28 -117  73  57  ...   143   142   165   -67  -145    39      1\n",
       "3  41 -188 -145  22 -117  -7  57  ...   104   136   168   -60  -135    80      1\n",
       "4  41 -188 -145  22 -117  -7  57  ...   104   137   168   -60  -135    80      1\n",
       "\n",
       "[5 rows x 167 columns]"
      ]
     },
     "execution_count": 4,
     "metadata": {
      "tags": []
     },
     "output_type": "execute_result"
    }
   ],
   "source": [
    "## printing the first five rows to see if the columns have been dropped\n",
    "data.head()"
   ]
  },
  {
   "cell_type": "code",
   "execution_count": 5,
   "metadata": {
    "colab": {
     "base_uri": "https://localhost:8080/",
     "height": 141
    },
    "colab_type": "code",
    "id": "NjWkBybx--mp",
    "outputId": "06bcfb1f-c48d-4c2f-a439-600f1b454ad8"
   },
   "outputs": [
    {
     "data": {
      "text/plain": [
       "array([[  46, -108,  -60, ...,  -50, -112,   96],\n",
       "       [  41, -188, -145, ...,  -61, -136,   79],\n",
       "       [  46, -194, -145, ...,  -67, -145,   39],\n",
       "       ...,\n",
       "       [  44, -102,  -19, ...,  -66, -144,   -6],\n",
       "       [  51, -121,  -23, ...,  -44, -116,  117],\n",
       "       [  51, -122,  -23, ...,  -44, -115,  118]])"
      ]
     },
     "execution_count": 5,
     "metadata": {
      "tags": []
     },
     "output_type": "execute_result"
    }
   ],
   "source": [
    "## dividing the data into training and test set\n",
    "X = data.iloc[:,:166].values\n",
    "Y = data.iloc[:,-1].values\n",
    "X"
   ]
  },
  {
   "cell_type": "code",
   "execution_count": 0,
   "metadata": {
    "colab": {},
    "colab_type": "code",
    "id": "GZSZvuNEB3QB"
   },
   "outputs": [],
   "source": [
    "## Splitting the data into 80:20 \n",
    "from sklearn.model_selection import train_test_split\n",
    "X_train,X_test,Y_train,Y_test = train_test_split(X,Y,test_size = 0.2, random_state = 0)"
   ]
  },
  {
   "cell_type": "code",
   "execution_count": 0,
   "metadata": {
    "colab": {},
    "colab_type": "code",
    "id": "R8iTnSkQNNd-"
   },
   "outputs": [],
   "source": [
    "## Feature scaling\n",
    "from sklearn.preprocessing import StandardScaler\n",
    "sc = StandardScaler()\n",
    "X_train = sc.fit_transform(X_train)\n",
    "X_test = sc.transform(X_test)"
   ]
  },
  {
   "cell_type": "code",
   "execution_count": 8,
   "metadata": {
    "colab": {
     "base_uri": "https://localhost:8080/",
     "height": 87
    },
    "colab_type": "code",
    "id": "tvWRDaRxOU2K",
    "outputId": "96e77ea6-4ca9-48ef-a25d-4768dec219d3"
   },
   "outputs": [
    {
     "name": "stdout",
     "output_type": "stream",
     "text": [
      "Requirement already satisfied: theano in /usr/local/lib/python3.6/dist-packages (1.0.4)\n",
      "Requirement already satisfied: scipy>=0.14 in /usr/local/lib/python3.6/dist-packages (from theano) (1.3.3)\n",
      "Requirement already satisfied: six>=1.9.0 in /usr/local/lib/python3.6/dist-packages (from theano) (1.12.0)\n",
      "Requirement already satisfied: numpy>=1.9.1 in /usr/local/lib/python3.6/dist-packages (from theano) (1.17.4)\n"
     ]
    }
   ],
   "source": [
    "!pip install theano"
   ]
  },
  {
   "cell_type": "code",
   "execution_count": 9,
   "metadata": {
    "colab": {
     "base_uri": "https://localhost:8080/",
     "height": 410
    },
    "colab_type": "code",
    "id": "Vc83eZ6wba3K",
    "outputId": "aa324c0b-3e89-49a3-8e83-f5010eef3f68"
   },
   "outputs": [
    {
     "name": "stdout",
     "output_type": "stream",
     "text": [
      "Requirement already satisfied: tensorflow in /usr/local/lib/python3.6/dist-packages (1.15.0)\n",
      "Requirement already satisfied: protobuf>=3.6.1 in /usr/local/lib/python3.6/dist-packages (from tensorflow) (3.10.0)\n",
      "Requirement already satisfied: six>=1.10.0 in /usr/local/lib/python3.6/dist-packages (from tensorflow) (1.12.0)\n",
      "Requirement already satisfied: tensorboard<1.16.0,>=1.15.0 in /usr/local/lib/python3.6/dist-packages (from tensorflow) (1.15.0)\n",
      "Requirement already satisfied: keras-applications>=1.0.8 in /usr/local/lib/python3.6/dist-packages (from tensorflow) (1.0.8)\n",
      "Requirement already satisfied: grpcio>=1.8.6 in /usr/local/lib/python3.6/dist-packages (from tensorflow) (1.15.0)\n",
      "Requirement already satisfied: keras-preprocessing>=1.0.5 in /usr/local/lib/python3.6/dist-packages (from tensorflow) (1.1.0)\n",
      "Requirement already satisfied: opt-einsum>=2.3.2 in /usr/local/lib/python3.6/dist-packages (from tensorflow) (3.1.0)\n",
      "Requirement already satisfied: absl-py>=0.7.0 in /usr/local/lib/python3.6/dist-packages (from tensorflow) (0.8.1)\n",
      "Requirement already satisfied: astor>=0.6.0 in /usr/local/lib/python3.6/dist-packages (from tensorflow) (0.8.1)\n",
      "Requirement already satisfied: termcolor>=1.1.0 in /usr/local/lib/python3.6/dist-packages (from tensorflow) (1.1.0)\n",
      "Requirement already satisfied: tensorflow-estimator==1.15.1 in /usr/local/lib/python3.6/dist-packages (from tensorflow) (1.15.1)\n",
      "Requirement already satisfied: numpy<2.0,>=1.16.0 in /usr/local/lib/python3.6/dist-packages (from tensorflow) (1.17.4)\n",
      "Requirement already satisfied: wheel>=0.26 in /usr/local/lib/python3.6/dist-packages (from tensorflow) (0.33.6)\n",
      "Requirement already satisfied: google-pasta>=0.1.6 in /usr/local/lib/python3.6/dist-packages (from tensorflow) (0.1.8)\n",
      "Requirement already satisfied: gast==0.2.2 in /usr/local/lib/python3.6/dist-packages (from tensorflow) (0.2.2)\n",
      "Requirement already satisfied: wrapt>=1.11.1 in /usr/local/lib/python3.6/dist-packages (from tensorflow) (1.11.2)\n",
      "Requirement already satisfied: setuptools in /usr/local/lib/python3.6/dist-packages (from protobuf>=3.6.1->tensorflow) (42.0.2)\n",
      "Requirement already satisfied: markdown>=2.6.8 in /usr/local/lib/python3.6/dist-packages (from tensorboard<1.16.0,>=1.15.0->tensorflow) (3.1.1)\n",
      "Requirement already satisfied: werkzeug>=0.11.15 in /usr/local/lib/python3.6/dist-packages (from tensorboard<1.16.0,>=1.15.0->tensorflow) (0.16.0)\n",
      "Requirement already satisfied: h5py in /usr/local/lib/python3.6/dist-packages (from keras-applications>=1.0.8->tensorflow) (2.8.0)\n"
     ]
    }
   ],
   "source": [
    "!pip install tensorflow"
   ]
  },
  {
   "cell_type": "code",
   "execution_count": 10,
   "metadata": {
    "colab": {
     "base_uri": "https://localhost:8080/",
     "height": 158
    },
    "colab_type": "code",
    "id": "B8nK3AqIbowY",
    "outputId": "afbbc4f1-1987-4a94-b026-dcc0723315c4"
   },
   "outputs": [
    {
     "name": "stdout",
     "output_type": "stream",
     "text": [
      "Requirement already satisfied: keras in /usr/local/lib/python3.6/dist-packages (2.2.5)\n",
      "Requirement already satisfied: keras-preprocessing>=1.1.0 in /usr/local/lib/python3.6/dist-packages (from keras) (1.1.0)\n",
      "Requirement already satisfied: pyyaml in /usr/local/lib/python3.6/dist-packages (from keras) (3.13)\n",
      "Requirement already satisfied: numpy>=1.9.1 in /usr/local/lib/python3.6/dist-packages (from keras) (1.17.4)\n",
      "Requirement already satisfied: keras-applications>=1.0.8 in /usr/local/lib/python3.6/dist-packages (from keras) (1.0.8)\n",
      "Requirement already satisfied: scipy>=0.14 in /usr/local/lib/python3.6/dist-packages (from keras) (1.3.3)\n",
      "Requirement already satisfied: h5py in /usr/local/lib/python3.6/dist-packages (from keras) (2.8.0)\n",
      "Requirement already satisfied: six>=1.9.0 in /usr/local/lib/python3.6/dist-packages (from keras) (1.12.0)\n"
     ]
    }
   ],
   "source": [
    "!pip install keras"
   ]
  },
  {
   "cell_type": "code",
   "execution_count": 11,
   "metadata": {
    "colab": {
     "base_uri": "https://localhost:8080/",
     "height": 81
    },
    "colab_type": "code",
    "id": "FAk2V-Jrb96H",
    "outputId": "942f042c-006c-461a-9f33-94bd925f3db3"
   },
   "outputs": [
    {
     "name": "stderr",
     "output_type": "stream",
     "text": [
      "Using TensorFlow backend.\n"
     ]
    },
    {
     "data": {
      "text/html": [
       "<p style=\"color: red;\">\n",
       "The default version of TensorFlow in Colab will soon switch to TensorFlow 2.x.<br>\n",
       "We recommend you <a href=\"https://www.tensorflow.org/guide/migrate\" target=\"_blank\">upgrade</a> now \n",
       "or ensure your notebook will continue to use TensorFlow 1.x via the <code>%tensorflow_version 1.x</code> magic:\n",
       "<a href=\"https://colab.research.google.com/notebooks/tensorflow_version.ipynb\" target=\"_blank\">more info</a>.</p>\n"
      ],
      "text/plain": [
       "<IPython.core.display.HTML object>"
      ]
     },
     "metadata": {
      "tags": []
     },
     "output_type": "display_data"
    }
   ],
   "source": [
    "import keras"
   ]
  },
  {
   "cell_type": "code",
   "execution_count": 0,
   "metadata": {
    "colab": {},
    "colab_type": "code",
    "id": "dDXsvaYGcAxm"
   },
   "outputs": [],
   "source": [
    "## making the model\n",
    "from keras.models import Sequential\n",
    "from keras.layers import Dense"
   ]
  },
  {
   "cell_type": "code",
   "execution_count": 0,
   "metadata": {
    "colab": {},
    "colab_type": "code",
    "id": "D-RW_F96cH6b"
   },
   "outputs": [],
   "source": [
    "classifier = Sequential()"
   ]
  },
  {
   "cell_type": "code",
   "execution_count": 31,
   "metadata": {
    "colab": {
     "base_uri": "https://localhost:8080/",
     "height": 72
    },
    "colab_type": "code",
    "id": "hVAatrJAccGx",
    "outputId": "396d8cf9-9b19-4632-d55a-59dcb2888f0d"
   },
   "outputs": [
    {
     "name": "stderr",
     "output_type": "stream",
     "text": [
      "/usr/local/lib/python3.6/dist-packages/ipykernel_launcher.py:1: UserWarning: Update your `Dense` call to the Keras 2 API: `Dense(activation=\"relu\", input_dim=166, units=80, kernel_initializer=\"uniform\")`\n",
      "  \"\"\"Entry point for launching an IPython kernel.\n"
     ]
    }
   ],
   "source": [
    "classifier.add(Dense(output_dim = 80,init = 'uniform', activation='relu',input_dim = 166))"
   ]
  },
  {
   "cell_type": "code",
   "execution_count": 32,
   "metadata": {
    "colab": {
     "base_uri": "https://localhost:8080/",
     "height": 72
    },
    "colab_type": "code",
    "id": "WXOnlSkFdei6",
    "outputId": "7181a47e-e32b-4592-b5f3-20ec424172fa"
   },
   "outputs": [
    {
     "name": "stderr",
     "output_type": "stream",
     "text": [
      "/usr/local/lib/python3.6/dist-packages/ipykernel_launcher.py:1: UserWarning: Update your `Dense` call to the Keras 2 API: `Dense(activation=\"relu\", units=80, kernel_initializer=\"uniform\")`\n",
      "  \"\"\"Entry point for launching an IPython kernel.\n"
     ]
    }
   ],
   "source": [
    "classifier.add(Dense(output_dim = 80,init = 'uniform', activation='relu'))"
   ]
  },
  {
   "cell_type": "code",
   "execution_count": 33,
   "metadata": {
    "colab": {
     "base_uri": "https://localhost:8080/",
     "height": 72
    },
    "colab_type": "code",
    "id": "rdfHQMP4d1KB",
    "outputId": "3d963be6-abdd-4153-8be1-379c4888abe2"
   },
   "outputs": [
    {
     "name": "stderr",
     "output_type": "stream",
     "text": [
      "/usr/local/lib/python3.6/dist-packages/ipykernel_launcher.py:1: UserWarning: Update your `Dense` call to the Keras 2 API: `Dense(activation=\"sigmoid\", units=1, kernel_initializer=\"uniform\")`\n",
      "  \"\"\"Entry point for launching an IPython kernel.\n"
     ]
    }
   ],
   "source": [
    "classifier.add(Dense(output_dim = 1, init = 'uniform', activation='sigmoid'))"
   ]
  },
  {
   "cell_type": "code",
   "execution_count": 0,
   "metadata": {
    "colab": {},
    "colab_type": "code",
    "id": "PkYY4o3JeZwt"
   },
   "outputs": [],
   "source": [
    "classifier.compile(optimizer='adam', loss = 'binary_crossentropy', metrics = ['accuracy'])"
   ]
  },
  {
   "cell_type": "code",
   "execution_count": 35,
   "metadata": {
    "colab": {
     "base_uri": "https://localhost:8080/",
     "height": 1000
    },
    "colab_type": "code",
    "id": "lZdCaS3ze1Vl",
    "outputId": "6f927e11-0360-40c9-9453-6b7556500ace"
   },
   "outputs": [
    {
     "name": "stderr",
     "output_type": "stream",
     "text": [
      "/usr/local/lib/python3.6/dist-packages/ipykernel_launcher.py:1: UserWarning: The `nb_epoch` argument in `fit` has been renamed `epochs`.\n",
      "  \"\"\"Entry point for launching an IPython kernel.\n"
     ]
    },
    {
     "name": "stdout",
     "output_type": "stream",
     "text": [
      "Train on 4222 samples, validate on 1056 samples\n",
      "Epoch 1/30\n",
      "4222/4222 [==============================] - 1s 281us/step - loss: 0.2653 - acc: 0.8854 - val_loss: 0.1739 - val_acc: 0.9536\n",
      "Epoch 2/30\n",
      "4222/4222 [==============================] - 1s 216us/step - loss: 0.1086 - acc: 0.9640 - val_loss: 0.0908 - val_acc: 0.9669\n",
      "Epoch 3/30\n",
      "4222/4222 [==============================] - 1s 210us/step - loss: 0.0644 - acc: 0.9787 - val_loss: 0.0781 - val_acc: 0.9763\n",
      "Epoch 4/30\n",
      "4222/4222 [==============================] - 1s 219us/step - loss: 0.0479 - acc: 0.9825 - val_loss: 0.0584 - val_acc: 0.9801\n",
      "Epoch 5/30\n",
      "4222/4222 [==============================] - 1s 214us/step - loss: 0.0380 - acc: 0.9858 - val_loss: 0.0577 - val_acc: 0.9782\n",
      "Epoch 6/30\n",
      "4222/4222 [==============================] - 1s 220us/step - loss: 0.0276 - acc: 0.9910 - val_loss: 0.0414 - val_acc: 0.9848\n",
      "Epoch 7/30\n",
      "4222/4222 [==============================] - 1s 225us/step - loss: 0.0207 - acc: 0.9910 - val_loss: 0.0381 - val_acc: 0.9915\n",
      "Epoch 8/30\n",
      "4222/4222 [==============================] - 1s 217us/step - loss: 0.0148 - acc: 0.9941 - val_loss: 0.0430 - val_acc: 0.9877\n",
      "Epoch 9/30\n",
      "4222/4222 [==============================] - 1s 212us/step - loss: 0.0145 - acc: 0.9960 - val_loss: 0.0453 - val_acc: 0.9886\n",
      "Epoch 10/30\n",
      "4222/4222 [==============================] - 1s 218us/step - loss: 0.0118 - acc: 0.9964 - val_loss: 0.0368 - val_acc: 0.9915\n",
      "Epoch 11/30\n",
      "4222/4222 [==============================] - 1s 214us/step - loss: 0.0063 - acc: 0.9983 - val_loss: 0.0662 - val_acc: 0.9830\n",
      "Epoch 12/30\n",
      "4222/4222 [==============================] - 1s 214us/step - loss: 0.0335 - acc: 0.9879 - val_loss: 0.0492 - val_acc: 0.9830\n",
      "Epoch 13/30\n",
      "4222/4222 [==============================] - 1s 214us/step - loss: 0.0059 - acc: 0.9988 - val_loss: 0.0279 - val_acc: 0.9924\n",
      "Epoch 14/30\n",
      "4222/4222 [==============================] - 1s 215us/step - loss: 0.0059 - acc: 0.9983 - val_loss: 0.0268 - val_acc: 0.9943\n",
      "Epoch 15/30\n",
      "4222/4222 [==============================] - 1s 219us/step - loss: 0.0017 - acc: 0.9998 - val_loss: 0.0283 - val_acc: 0.9962\n",
      "Epoch 16/30\n",
      "4222/4222 [==============================] - 1s 211us/step - loss: 7.1089e-04 - acc: 1.0000 - val_loss: 0.0281 - val_acc: 0.9972\n",
      "Epoch 17/30\n",
      "4222/4222 [==============================] - 1s 209us/step - loss: 5.1880e-04 - acc: 1.0000 - val_loss: 0.0284 - val_acc: 0.9972\n",
      "Epoch 18/30\n",
      "4222/4222 [==============================] - 1s 215us/step - loss: 3.7643e-04 - acc: 1.0000 - val_loss: 0.0289 - val_acc: 0.9962\n",
      "Epoch 19/30\n",
      "4222/4222 [==============================] - 1s 211us/step - loss: 2.4984e-04 - acc: 1.0000 - val_loss: 0.0301 - val_acc: 0.9972\n",
      "Epoch 20/30\n",
      "4222/4222 [==============================] - 1s 223us/step - loss: 1.9624e-04 - acc: 1.0000 - val_loss: 0.0318 - val_acc: 0.9962\n",
      "Epoch 21/30\n",
      "4222/4222 [==============================] - 1s 216us/step - loss: 1.6032e-04 - acc: 1.0000 - val_loss: 0.0307 - val_acc: 0.9962\n",
      "Epoch 22/30\n",
      "4222/4222 [==============================] - 1s 222us/step - loss: 1.3083e-04 - acc: 1.0000 - val_loss: 0.0327 - val_acc: 0.9953\n",
      "Epoch 23/30\n",
      "4222/4222 [==============================] - 1s 214us/step - loss: 1.0700e-04 - acc: 1.0000 - val_loss: 0.0320 - val_acc: 0.9962\n",
      "Epoch 24/30\n",
      "4222/4222 [==============================] - 1s 212us/step - loss: 8.4216e-05 - acc: 1.0000 - val_loss: 0.0307 - val_acc: 0.9972\n",
      "Epoch 25/30\n",
      "4222/4222 [==============================] - 1s 231us/step - loss: 7.0065e-05 - acc: 1.0000 - val_loss: 0.0317 - val_acc: 0.9972\n",
      "Epoch 26/30\n",
      "4222/4222 [==============================] - 1s 205us/step - loss: 5.5957e-05 - acc: 1.0000 - val_loss: 0.0329 - val_acc: 0.9972\n",
      "Epoch 27/30\n",
      "4222/4222 [==============================] - 1s 214us/step - loss: 4.6573e-05 - acc: 1.0000 - val_loss: 0.0319 - val_acc: 0.9972\n",
      "Epoch 28/30\n",
      "4222/4222 [==============================] - 1s 215us/step - loss: 3.8664e-05 - acc: 1.0000 - val_loss: 0.0329 - val_acc: 0.9972\n",
      "Epoch 29/30\n",
      "4222/4222 [==============================] - 1s 211us/step - loss: 3.1956e-05 - acc: 1.0000 - val_loss: 0.0325 - val_acc: 0.9962\n",
      "Epoch 30/30\n",
      "4222/4222 [==============================] - 1s 219us/step - loss: 2.7229e-05 - acc: 1.0000 - val_loss: 0.0324 - val_acc: 0.9972\n"
     ]
    }
   ],
   "source": [
    "history = classifier.fit(X_train,Y_train,batch_size = 16,nb_epoch = 30,validation_split = 0.2)"
   ]
  },
  {
   "cell_type": "code",
   "execution_count": 36,
   "metadata": {
    "colab": {
     "base_uri": "https://localhost:8080/",
     "height": 52
    },
    "colab_type": "code",
    "id": "HBDONMld5h9j",
    "outputId": "cf708b27-69e3-4e8f-f7c3-cbb1870bea0a"
   },
   "outputs": [
    {
     "name": "stdout",
     "output_type": "stream",
     "text": [
      "1320/1320 [==============================] - 0s 46us/step\n"
     ]
    },
    {
     "data": {
      "text/plain": [
       "[0.032593735527419114, 0.9954545454545455]"
      ]
     },
     "execution_count": 36,
     "metadata": {
      "tags": []
     },
     "output_type": "execute_result"
    }
   ],
   "source": [
    "##I have got the train accuracy and validation accuracy in the 30th epoch, here I am checking the test accuracy and the loss\n",
    "classifier.evaluate(x = X_test,y =Y_test)"
   ]
  },
  {
   "cell_type": "code",
   "execution_count": 37,
   "metadata": {
    "colab": {
     "base_uri": "https://localhost:8080/",
     "height": 294
    },
    "colab_type": "code",
    "id": "-SFtfTegfaPC",
    "outputId": "83a7e75c-154a-45bb-d6cf-b63cbe26be1e"
   },
   "outputs": [
    {
     "data": {
      "image/png": "[encoded data removed]",
      "text/plain": [
       "<Figure size 432x288 with 1 Axes>"
      ]
     },
     "metadata": {
      "tags": []
     },
     "output_type": "display_data"
    }
   ],
   "source": [
    "## plotting the accuracy curve\n",
    "plt.plot(history.history['acc'], label = 'train')\n",
    "plt.plot(history.history['val_acc'], label = 'validation')\n",
    "plt.title('Accuracy')\n",
    "plt.xlabel('epoch')\n",
    "plt.ylabel('accuracy')\n",
    "plt.legend(loc = 'lower right')\n",
    "plt.show()"
   ]
  },
  {
   "cell_type": "code",
   "execution_count": 38,
   "metadata": {
    "colab": {
     "base_uri": "https://localhost:8080/",
     "height": 294
    },
    "colab_type": "code",
    "id": "W8LuaCgEjvEI",
    "outputId": "a48c0de4-1cd7-433c-8c63-651bd02fa09b"
   },
   "outputs": [
    {
     "data": {
      "image/png": "[encoded data removed]",
      "text/plain": [
       "<Figure size 432x288 with 1 Axes>"
      ]
     },
     "metadata": {
      "tags": []
     },
     "output_type": "display_data"
    }
   ],
   "source": [
    "## plotting the loss curve\n",
    "plt.plot(history.history['loss'], label = 'train')\n",
    "plt.plot(history.history['val_loss'], label = 'validation')\n",
    "plt.title('Loss')\n",
    "plt.xlabel('epoch')\n",
    "plt.ylabel('loss')\n",
    "plt.legend(loc = 'upper right')\n",
    "plt.show()"
   ]
  },
  {
   "cell_type": "code",
   "execution_count": 43,
   "metadata": {
    "colab": {
     "base_uri": "https://localhost:8080/",
     "height": 141
    },
    "colab_type": "code",
    "id": "MQ4P6nkQ8ezs",
    "outputId": "ee0b8a46-9834-4d24-f9d8-5f87838c481d"
   },
   "outputs": [
    {
     "data": {
      "text/plain": [
       "array([[3.8743019e-07],\n",
       "       [9.9999923e-01],\n",
       "       [2.3961067e-05],\n",
       "       ...,\n",
       "       [1.2508035e-04],\n",
       "       [0.0000000e+00],\n",
       "       [0.0000000e+00]], dtype=float32)"
      ]
     },
     "execution_count": 43,
     "metadata": {
      "tags": []
     },
     "output_type": "execute_result"
    }
   ],
   "source": [
    "## y_pred\n",
    "Y_pred = classifier.predict(X_test)"
   ]
  },
  {
   "cell_type": "code",
   "execution_count": 0,
   "metadata": {
    "colab": {},
    "colab_type": "code",
    "id": "D7jwuKsy_qCD"
   },
   "outputs": [],
   "source": [
    "Y_pred = Y_pred > 0.5"
   ]
  },
  {
   "cell_type": "code",
   "execution_count": 0,
   "metadata": {
    "colab": {},
    "colab_type": "code",
    "id": "XznStApG_3U1"
   },
   "outputs": [],
   "source": [
    "Y_pred = np.array(Y_pred,dtype = int)"
   ]
  },
  {
   "cell_type": "code",
   "execution_count": 56,
   "metadata": {
    "colab": {
     "base_uri": "https://localhost:8080/",
     "height": 141
    },
    "colab_type": "code",
    "id": "BkE97mteACmj",
    "outputId": "f21af973-d59c-40aa-fa00-0f9e2d092e25"
   },
   "outputs": [
    {
     "data": {
      "text/plain": [
       "array([[0],\n",
       "       [1],\n",
       "       [0],\n",
       "       ...,\n",
       "       [0],\n",
       "       [0],\n",
       "       [0]])"
      ]
     },
     "execution_count": 56,
     "metadata": {
      "tags": []
     },
     "output_type": "execute_result"
    }
   ],
   "source": [
    "Y_pred"
   ]
  },
  {
   "cell_type": "code",
   "execution_count": 0,
   "metadata": {
    "colab": {},
    "colab_type": "code",
    "id": "FypSNYh-kMir"
   },
   "outputs": [],
   "source": [
    "## confusion matrix\n",
    "from sklearn.metrics import confusion_matrix\n",
    "cm = confusion_matrix(Y_test,Y_pred)"
   ]
  },
  {
   "cell_type": "code",
   "execution_count": 59,
   "metadata": {
    "colab": {
     "base_uri": "https://localhost:8080/",
     "height": 52
    },
    "colab_type": "code",
    "id": "X4I869599Sa8",
    "outputId": "952a0bb3-c8dd-484e-b50a-e15a39787854"
   },
   "outputs": [
    {
     "data": {
      "text/plain": [
       "array([[1117,    3],\n",
       "       [   3,  197]])"
      ]
     },
     "execution_count": 59,
     "metadata": {
      "tags": []
     },
     "output_type": "execute_result"
    }
   ],
   "source": [
    "cm"
   ]
  },
  {
   "cell_type": "code",
   "execution_count": 0,
   "metadata": {
    "colab": {},
    "colab_type": "code",
    "id": "bNPb6V4wANZR"
   },
   "outputs": [],
   "source": [
    "## Accuracy, Precision and the F1 score\n",
    "Precesion = cm[0][0]/(cm[0][0]+cm[1][0])\n",
    "Recall = cm[0][0]/(cm[0][0]+cm[0][1])\n",
    "F1 = (2*Precesion*Recall)/(Precesion+Recall)"
   ]
  },
  {
   "cell_type": "code",
   "execution_count": 71,
   "metadata": {
    "colab": {
     "base_uri": "https://localhost:8080/",
     "height": 34
    },
    "colab_type": "code",
    "id": "nEDUPD6gCdVH",
    "outputId": "63c497ae-f9f2-4f2c-d8b3-4c54f5df5359"
   },
   "outputs": [
    {
     "name": "stdout",
     "output_type": "stream",
     "text": [
      "Precesion = 0.9973214285714286, Recall = 0.9973214285714286, F1_score = 0.9973214285714286\n"
     ]
    }
   ],
   "source": [
    "print('Precesion = {}, Recall = {}, F1_score = {}'.format(Precesion,Recall,F1))"
   ]
  },
  {
   "cell_type": "code",
   "execution_count": 0,
   "metadata": {
    "colab": {},
    "colab_type": "code",
    "id": "cbzYHBm2C6d4"
   },
   "outputs": [],
   "source": []
  }
 ],
 "metadata": {
  "accelerator": "GPU",
  "colab": {
   "collapsed_sections": [],
   "name": "Untitled7.ipynb",
   "provenance": []
  },
  "kernelspec": {
   "display_name": "Python 3",
   "language": "python",
   "name": "python3"
  },
  "language_info": {
   "codemirror_mode": {
    "name": "ipython",
    "version": 3
   },
   "file_extension": ".py",
   "mimetype": "text/x-python",
   "name": "python",
   "nbconvert_exporter": "python",
   "pygments_lexer": "ipython3",
   "version": "3.7.4"
  }
 },
 "nbformat": 4,
 "nbformat_minor": 1
}
